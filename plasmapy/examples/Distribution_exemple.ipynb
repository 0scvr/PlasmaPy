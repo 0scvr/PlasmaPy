{
 "cells": [
  {
   "cell_type": "code",
   "execution_count": 1,
   "metadata": {
    "ExecuteTime": {
     "end_time": "2017-10-04T10:38:17.117221Z",
     "start_time": "2017-10-04T10:38:16.455734Z"
    }
   },
   "outputs": [],
   "source": [
    "import importlib\n",
    "import sys\n",
    "sys.path.insert(0, '../../../PlasmaPy')\n",
    "\n",
    "import numpy as np\n",
    "from astropy import units as u\n",
    "import plasmapy\n",
    "import matplotlib.pyplot as plt\n",
    "\n",
    "from plasmapy.constants import (m_p, m_e, c, mu0, k_B, e, eps0, pi, e)\n",
    "from plasmapy.physics.distribution import Maxwellian_1D\n",
    "\n",
    "from imp import reload\n",
    "reload(plasmapy.physics.distribution)\n",
    "%matplotlib inline"
   ]
  },
  {
   "cell_type": "code",
   "execution_count": 3,
   "metadata": {
    "ExecuteTime": {
     "end_time": "2017-10-04T10:38:24.834239Z",
     "start_time": "2017-10-04T10:38:24.818209Z"
    }
   },
   "outputs": [
    {
     "data": {
      "text/latex": [
       "$5.9163297 \\times 10^{-7} \\; \\mathrm{\\frac{s}{m}}$"
      ],
      "text/plain": [
       "<Quantity 5.916329687405701e-07 s / m>"
      ]
     },
     "execution_count": 3,
     "metadata": {},
     "output_type": "execute_result"
    }
   ],
   "source": [
    "Maxwellian_1D(v=1*u.m/u.s, T= 30000*u.K, particle='e',V_drift=0*u.m/u.s)\n"
   ]
  },
  {
   "cell_type": "code",
   "execution_count": 4,
   "metadata": {
    "ExecuteTime": {
     "end_time": "2017-10-04T10:38:34.361995Z",
     "start_time": "2017-10-04T10:38:34.187756Z"
    }
   },
   "outputs": [
    {
     "name": "stdout",
     "output_type": "stream",
     "text": [
      "0.9999999999999999\n"
     ]
    },
    {
     "data": {
      "text/plain": [
       "[<matplotlib.lines.Line2D at 0x7f101b8146a0>]"
      ]
     },
     "execution_count": 4,
     "metadata": {},
     "output_type": "execute_result"
    },
    {
     "data": {
      "image/png": "[encoded data removed]",
      "text/plain": [
       "<matplotlib.figure.Figure at 0x7f101d8817b8>"
      ]
     },
     "metadata": {},
     "output_type": "display_data"
    }
   ],
   "source": [
    "# With a vertor (from Numpy)\n",
    "start = -5000;\n",
    "stop = - start;\n",
    "dv = 10000 * u.m/u.s;\n",
    "\n",
    "v = np.arange(start,stop,dtype='float64')* dv;\n",
    "\n",
    "#Test the normationation to 1\n",
    "integral = (Maxwellian_1D(v,T= 30000*u.K, particle='e')).sum()*dv\n",
    "\n",
    "print(integral)\n",
    "\n",
    "plt.plot(v,(Maxwellian_1D(v,T= 30000*u.K, particle='e')))\n"
   ]
  },
  {
   "cell_type": "code",
   "execution_count": 6,
   "metadata": {
    "ExecuteTime": {
     "end_time": "2017-10-04T10:38:47.008876Z",
     "start_time": "2017-10-04T10:38:46.994885Z"
    }
   },
   "outputs": [
    {
     "name": "stdout",
     "output_type": "stream",
     "text": [
      "1.0\n"
     ]
    }
   ],
   "source": [
    "#test std \n",
    "T =  30000*u.K\n",
    "std = np.sqrt((Maxwellian_1D(v,T=T, particle='e')*v**2*dv).sum())\n",
    "T_theo = (std**2/k_B*m_e).to(u.K)\n",
    "\n",
    "print(T_theo/T)"
   ]
  },
  {
   "cell_type": "code",
   "execution_count": 8,
   "metadata": {
    "ExecuteTime": {
     "end_time": "2017-10-04T10:39:00.264312Z",
     "start_time": "2017-10-04T10:39:00.225670Z"
    }
   },
   "outputs": [],
   "source": [
    "T_e = 30000*u.K;\n",
    "V_drift = 10*u.m/u.s;\n",
    "\n",
    "start = -5000;\n",
    "stop = - start;\n",
    "dv = 10000 * u.m/u.s;\n",
    "\n",
    "v_vect = np.arange(start,stop,dtype='float64')* dv;"
   ]
  },
  {
   "cell_type": "code",
   "execution_count": 9,
   "metadata": {
    "ExecuteTime": {
     "end_time": "2017-10-04T10:39:00.477616Z",
     "start_time": "2017-10-04T10:39:00.467525Z"
    }
   },
   "outputs": [
    {
     "data": {
      "text/latex": [
       "$0 \\; \\mathrm{\\frac{m}{s}}$"
      ],
      "text/plain": [
       "<Quantity 0.0 m / s>"
      ]
     },
     "execution_count": 9,
     "metadata": {},
     "output_type": "execute_result"
    }
   ],
   "source": [
    "v_vect[Maxwellian_1D(v_vect,T=T_e, particle='e',V_drift = 0*u.m/u.s ).argmax()]"
   ]
  },
  {
   "cell_type": "code",
   "execution_count": null,
   "metadata": {
    "ExecuteTime": {
     "end_time": "2017-10-04T08:41:33.617076Z",
     "start_time": "2017-10-04T08:41:33.603795Z"
    }
   },
   "outputs": [],
   "source": []
  }
 ],
 "metadata": {
  "kernelspec": {
   "display_name": "Python 3",
   "language": "python",
   "name": "python3"
  },
  "language_info": {
   "codemirror_mode": {
    "name": "ipython",
    "version": 3
   },
   "file_extension": ".py",
   "mimetype": "text/x-python",
   "name": "python",
   "nbconvert_exporter": "python",
   "pygments_lexer": "ipython3",
   "version": "3.6.2"
  },
  "varInspector": {
   "cols": {
    "lenName": 16,
    "lenType": 16,
    "lenVar": 40
   },
   "kernels_config": {
    "python": {
     "delete_cmd_postfix": "",
     "delete_cmd_prefix": "del ",
     "library": "var_list.py",
     "varRefreshCmd": "print(var_dic_list())"
    },
    "r": {
     "delete_cmd_postfix": ") ",
     "delete_cmd_prefix": "rm(",
     "library": "var_list.r",
     "varRefreshCmd": "cat(var_dic_list()) "
    }
   },
   "types_to_exclude": [
    "module",
    "function",
    "builtin_function_or_method",
    "instance",
    "_Feature"
   ],
   "window_display": false
  }
 },
 "nbformat": 4,
 "nbformat_minor": 2
}
