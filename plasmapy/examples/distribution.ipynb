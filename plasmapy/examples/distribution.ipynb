{
 "cells": [
  {
   "cell_type": "markdown",
   "metadata": {},
   "source": [
    "# plasmapy.physics.distribution\n",
    "We import the usual and the hero of this notebook, the Maxwellian 1D distribution:"
   ]
  },
  {
   "cell_type": "code",
   "execution_count": 1,
   "metadata": {
    "ExecuteTime": {
     "end_time": "2017-10-04T10:38:17.117221Z",
     "start_time": "2017-10-04T10:38:16.455734Z"
    },
    "collapsed": true
   },
   "outputs": [],
   "source": [
    "import numpy as np\n",
    "from astropy import units as u\n",
    "import plasmapy\n",
    "import matplotlib.pyplot as plt\n",
    "from plasmapy.constants import (m_p, m_e, c, mu0, k_B, e, eps0, pi, e)\n",
    "%matplotlib inline \n",
    "from plasmapy.physics.distribution import Maxwellian_1D"
   ]
  },
  {
   "cell_type": "markdown",
   "metadata": {},
   "source": [
    "Given we'll be plotting:"
   ]
  },
  {
   "cell_type": "code",
   "execution_count": 2,
   "metadata": {},
   "outputs": [
    {
     "data": {
      "text/plain": [
       "<astropy.visualization.units.quantity_support.<locals>.MplQuantityConverter at 0x7fb266fdd588>"
      ]
     },
     "execution_count": 2,
     "metadata": {},
     "output_type": "execute_result"
    }
   ],
   "source": [
    "from astropy.visualization import quantity_support\n",
    "quantity_support() "
   ]
  },
  {
   "cell_type": "markdown",
   "metadata": {},
   "source": [
    "Let's get the probability density of finding an electron at 1 m/s if we have a plasma at 30 000 K:"
   ]
  },
  {
   "cell_type": "code",
   "execution_count": 3,
   "metadata": {
    "ExecuteTime": {
     "end_time": "2017-10-04T10:38:24.834239Z",
     "start_time": "2017-10-04T10:38:24.818209Z"
    }
   },
   "outputs": [
    {
     "data": {
      "text/latex": [
       "$5.9163297 \\times 10^{-7} \\; \\mathrm{\\frac{s}{m}}$"
      ],
      "text/plain": [
       "<Quantity 5.916329687405701e-07 s / m>"
      ]
     },
     "execution_count": 3,
     "metadata": {},
     "output_type": "execute_result"
    }
   ],
   "source": [
    "Maxwellian_1D(v=1*u.m/u.s, T= 30000*u.K, particle='e',V_drift=0*u.m/u.s)"
   ]
  },
  {
   "cell_type": "markdown",
   "metadata": {},
   "source": [
    "Note the units! Integrated over velocities, this will give us a probability. Let's test that for a bunch of particles:"
   ]
  },
  {
   "cell_type": "code",
   "execution_count": 4,
   "metadata": {
    "ExecuteTime": {
     "end_time": "2017-10-04T10:38:34.361995Z",
     "start_time": "2017-10-04T10:38:34.187756Z"
    }
   },
   "outputs": [
    {
     "name": "stdout",
     "output_type": "stream",
     "text": [
      "Integral value for p: 0.9999999999999998\n",
      "Integral value for e: 0.9999999999998787\n"
     ]
    },
    {
     "data": {
      "text/plain": [
       "<matplotlib.legend.Legend at 0x7fb24a11da58>"
      ]
     },
     "execution_count": 4,
     "metadata": {},
     "output_type": "execute_result"
    },
    {
     "data": {
      "image/png": "[encoded data removed]",
      "text/plain": [
       "<matplotlib.figure.Figure at 0x7fb24a11db38>"
      ]
     },
     "metadata": {},
     "output_type": "display_data"
    }
   ],
   "source": [
    "# With a vector (from Numpy)\n",
    "start = -500000\n",
    "stop = -start\n",
    "v = np.arange(start,stop) * 10 * u.m/u.s\n",
    "dv = v[1] - v[0]\n",
    "\n",
    "#Test the normationation to 1\n",
    "for particle in ['p', 'e']:\n",
    "    pdf = Maxwellian_1D(v,T= 30000*u.K, particle=particle)\n",
    "    integral = (pdf).sum() * dv\n",
    "    print(f\"Integral value for {particle}: {integral}\")\n",
    "    plt.plot(v, pdf, label=particle)\n",
    "plt.legend()"
   ]
  },
  {
   "cell_type": "markdown",
   "metadata": {},
   "source": [
    "The standard deviation of this distribution should give us back our temperature:"
   ]
  },
  {
   "cell_type": "code",
   "execution_count": 5,
   "metadata": {
    "ExecuteTime": {
     "end_time": "2017-10-04T10:38:47.008876Z",
     "start_time": "2017-10-04T10:38:46.994885Z"
    }
   },
   "outputs": [
    {
     "name": "stdout",
     "output_type": "stream",
     "text": [
      "0.9999999999930749\n"
     ]
    }
   ],
   "source": [
    "\n",
    "T =  30000*u.K\n",
    "std = np.sqrt((Maxwellian_1D(v,T=T, particle='e')*v**2*dv).sum())\n",
    "T_theo = (std**2/k_B*m_e).to(u.K)\n",
    "\n",
    "print(T_theo/T)"
   ]
  },
  {
   "cell_type": "markdown",
   "metadata": {},
   "source": [
    "And the center of the distribution is, as can be seen below:"
   ]
  },
  {
   "cell_type": "code",
   "execution_count": 6,
   "metadata": {
    "ExecuteTime": {
     "end_time": "2017-10-04T10:39:00.264312Z",
     "start_time": "2017-10-04T10:39:00.225670Z"
    }
   },
   "outputs": [
    {
     "data": {
      "text/latex": [
       "$0 \\; \\mathrm{\\frac{m}{s}}$"
      ],
      "text/plain": [
       "<Quantity 0.0 m / s>"
      ]
     },
     "execution_count": 6,
     "metadata": {},
     "output_type": "execute_result"
    }
   ],
   "source": [
    "T_e = 30000*u.K\n",
    "V_drift = 10*u.m/u.s\n",
    "\n",
    "start = -5000\n",
    "stop = - start\n",
    "dv = 10000 * u.m/u.s\n",
    "\n",
    "v_vect = np.arange(start,stop,dtype='float64')* dv\n",
    "\n",
    "v_vect[Maxwellian_1D(v_vect,T=T_e, particle='e',V_drift = 0*u.m/u.s ).argmax()]"
   ]
  }
 ],
 "metadata": {
  "kernelspec": {
   "display_name": "Python [default]",
   "language": "python",
   "name": "python3"
  },
  "language_info": {
   "codemirror_mode": {
    "name": "ipython",
    "version": 3
   },
   "file_extension": ".py",
   "mimetype": "text/x-python",
   "name": "python",
   "nbconvert_exporter": "python",
   "pygments_lexer": "ipython3",
   "version": "3.6.2"
  },
  "varInspector": {
   "cols": {
    "lenName": 16,
    "lenType": 16,
    "lenVar": 40
   },
   "kernels_config": {
    "python": {
     "delete_cmd_postfix": "",
     "delete_cmd_prefix": "del ",
     "library": "var_list.py",
     "varRefreshCmd": "print(var_dic_list())"
    },
    "r": {
     "delete_cmd_postfix": ") ",
     "delete_cmd_prefix": "rm(",
     "library": "var_list.r",
     "varRefreshCmd": "cat(var_dic_list()) "
    }
   },
   "types_to_exclude": [
    "module",
    "function",
    "builtin_function_or_method",
    "instance",
    "_Feature"
   ],
   "window_display": false
  }
 },
 "nbformat": 4,
 "nbformat_minor": 2
}
