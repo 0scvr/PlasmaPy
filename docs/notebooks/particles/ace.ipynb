{
 "cells": [
  {
   "cell_type": "markdown",
   "id": "5ddab7ea",
   "metadata": {},
   "source": [
    "# Ionization states"
   ]
  },
  {
   "cell_type": "markdown",
   "id": "31f467b1",
   "metadata": {},
   "source": [
    "The ionization state distribution for an element refers to the fractions of that element at each ionic level.  For example, the charge state of helium might be 10% He$^{0+}$, 70% He$^{1+}$, and 20% He$^{2+}$. "
   ]
  },
  {
   "cell_type": "code",
   "execution_count": null,
   "id": "6e9deb4a",
   "metadata": {},
   "outputs": [],
   "source": [
    "from plasmapy.particles import IonizationState, IonizationStateCollection"
   ]
  },
  {
   "cell_type": "markdown",
   "id": "279b1b3a",
   "metadata": {},
   "source": [
    "## The ionization state of a single element"
   ]
  },
  {
   "cell_type": "markdown",
   "id": "39966b76",
   "metadata": {},
   "source": [
    "Let's store this information in an `IonizationState` object, and specify the number density of the element too."
   ]
  },
  {
   "cell_type": "code",
   "execution_count": null,
   "id": "c4419185",
   "metadata": {},
   "outputs": [],
   "source": [
    "He_states = IonizationState(\"He-4\", [0.1, 0.7, 0.2], n_elem=1e7 * u.cm**-3)"
   ]
  },
  {
   "cell_type": "markdown",
   "id": "b28f004a",
   "metadata": {},
   "source": [
    "The ionization state distribution is stored in the `ionic_fractions` attribute."
   ]
  },
  {
   "cell_type": "code",
   "execution_count": null,
   "id": "06f5eaa6",
   "metadata": {},
   "outputs": [],
   "source": [
    "He_states.ionic_fractions"
   ]
  },
  {
   "cell_type": "markdown",
   "id": "9d12a5a7",
   "metadata": {},
   "source": [
    "We can get the symbols for each ionic level too."
   ]
  },
  {
   "cell_type": "code",
   "execution_count": null,
   "id": "9ff206c4",
   "metadata": {},
   "outputs": [],
   "source": [
    "He_states.ionic_symbols"
   ]
  },
  {
   "cell_type": "markdown",
   "id": "938e60c9",
   "metadata": {},
   "source": [
    "Because we provided the number density of the element as a whole, we can get back the number density of each ionic level."
   ]
  },
  {
   "cell_type": "code",
   "execution_count": null,
   "id": "d7edcf41",
   "metadata": {},
   "outputs": [],
   "source": [
    "He_states.number_densities"
   ]
  },
  {
   "cell_type": "markdown",
   "id": "7cec7b16",
   "metadata": {},
   "source": [
    "We can also get the electron number density required to balance the positive charges for ions of this element."
   ]
  },
  {
   "cell_type": "code",
   "execution_count": null,
   "id": "22744f13",
   "metadata": {},
   "outputs": [],
   "source": [
    "He_states.n_e"
   ]
  },
  {
   "cell_type": "markdown",
   "id": "3c7ff668",
   "metadata": {},
   "source": [
    "We can provide an `IonizationState` with a charge number as an index to get an `IonicLevel` object that contains most of these attributes, but for a single ionic level (like He$^{1+}$).  This capability is useful if we wish to iterate over the ions of an element."
   ]
  },
  {
   "cell_type": "code",
   "execution_count": null,
   "id": "2c67356d",
   "metadata": {},
   "outputs": [],
   "source": [
    "for Z in range(3):\n",
    "    print(He_states[Z])"
   ]
  },
  {
   "cell_type": "markdown",
   "id": "3c7995f0",
   "metadata": {},
   "source": [
    "We can get information about the average charge state via `Z_mean`, `Z_most_abundant`, and `Z_rms`."
   ]
  },
  {
   "cell_type": "code",
   "execution_count": null,
   "id": "efc11927",
   "metadata": {},
   "outputs": [],
   "source": [
    "He_states.Z_mean"
   ]
  },
  {
   "cell_type": "code",
   "execution_count": null,
   "id": "edb4b146",
   "metadata": {},
   "outputs": [],
   "source": [
    "He_states.Z_most_abundant"
   ]
  },
  {
   "cell_type": "code",
   "execution_count": null,
   "id": "7fbd84bf",
   "metadata": {},
   "outputs": [],
   "source": [
    "He_states.Z_rms"
   ]
  },
  {
   "cell_type": "markdown",
   "id": "ccda6535",
   "metadata": {},
   "source": [
    "We can calculate the properties of the average ionic level."
   ]
  },
  {
   "cell_type": "code",
   "execution_count": null,
   "id": "847e998f",
   "metadata": {},
   "outputs": [],
   "source": [
    "He_states.average_ion()"
   ]
  },
  {
   "cell_type": "markdown",
   "id": "a70042f7",
   "metadata": {},
   "source": [
    "We can use the `summarize()` method to get information about the ionization state."
   ]
  },
  {
   "cell_type": "code",
   "execution_count": null,
   "id": "19a9ac38",
   "metadata": {},
   "outputs": [],
   "source": [
    "He_states.summarize()"
   ]
  },
  {
   "cell_type": "markdown",
   "id": "6ac6a936",
   "metadata": {},
   "source": [
    "## Ionization states of multiple elements"
   ]
  },
  {
   "cell_type": "markdown",
   "id": "3f7c7d6b",
   "metadata": {},
   "source": [
    "[Gilbert et al. (2012)]: https://doi.org/10.1088/0004-637X/751/1/20\n",
    "\n",
    "Now let's look at some actual average ionization state data for filament material in an ICME observed by the *Advanced Composition Explorer* (*ACE*) near 1 AU.  The data were estimated from Figure 4 in [Gilbert et al. (2012)].  These data are noteworthy because there is information from very low charge states to very high charge states."
   ]
  },
  {
   "cell_type": "code",
   "execution_count": null,
   "id": "6f57b224",
   "metadata": {},
   "outputs": [],
   "source": [
    "number_densities = {\n",
    "    \"C\": [0, 5.7e-7, 4.3e-5, 3.6e-6, 2.35e-6, 1e-6, 1.29e-6] * u.cm**-3,\n",
    "    \"O\": [0, 1.2e-7, 2.2e-4, 7.8e-6, 8.8e-7, 1e-6, 4e-6, 1.3e-6, 1.2e-7] * u.cm**-3,\n",
    "    \"Fe\": [\n",
    "        0,\n",
    "        0,\n",
    "        1.4e-8,\n",
    "        1.1e-7,\n",
    "        2.5e-7,\n",
    "        2.2e-7,\n",
    "        1.4e-7,\n",
    "        1.2e-7,\n",
    "        2.1e-7,\n",
    "        2.1e-7,\n",
    "        1.6e-7,\n",
    "        8e-8,\n",
    "        6.3e-8,\n",
    "        4.2e-8,\n",
    "        2.5e-8,\n",
    "        2.3e-8,\n",
    "        1.5e-8,\n",
    "        3.1e-8,\n",
    "        6.1e-9,\n",
    "        2.3e-9,\n",
    "        5.3e-10,\n",
    "        2.3e-10,\n",
    "        0,\n",
    "        0,\n",
    "        0,\n",
    "        0,\n",
    "        0,\n",
    "    ]\n",
    "    * u.cm**-3,\n",
    "}"
   ]
  },
  {
   "cell_type": "markdown",
   "id": "7b2d878e",
   "metadata": {},
   "source": [
    "Now let's use this information as an input for `IonizationStateCollection`: a data structure for the ionization states of multiple elements."
   ]
  },
  {
   "cell_type": "code",
   "execution_count": null,
   "id": "ed4da71a",
   "metadata": {},
   "outputs": [],
   "source": [
    "states = IonizationStateCollection(number_densities)"
   ]
  },
  {
   "cell_type": "markdown",
   "id": "6e769fc0",
   "metadata": {},
   "source": [
    "We can index this to get an `IonizationState` for one of the elements."
   ]
  },
  {
   "cell_type": "code",
   "execution_count": null,
   "id": "ebce50d9",
   "metadata": {},
   "outputs": [],
   "source": [
    "states[\"C\"]"
   ]
  },
  {
   "cell_type": "markdown",
   "id": "5ac7be92",
   "metadata": {},
   "source": [
    "We can get the relative abundances of each of the elements."
   ]
  },
  {
   "cell_type": "code",
   "execution_count": null,
   "id": "4b302f1e",
   "metadata": {},
   "outputs": [],
   "source": [
    "states.abundances"
   ]
  },
  {
   "cell_type": "code",
   "execution_count": null,
   "id": "5a7baf6c",
   "metadata": {},
   "outputs": [],
   "source": [
    "states.log_abundances"
   ]
  },
  {
   "cell_type": "markdown",
   "id": "1350ddb8",
   "metadata": {},
   "source": [
    "We can get the number densities as a `dict` (like what we provided) and the electron number density (assuming quasineutrality, but only for the elements contained in the data structure)."
   ]
  },
  {
   "cell_type": "code",
   "execution_count": null,
   "id": "566fab0c",
   "metadata": {},
   "outputs": [],
   "source": [
    "states.number_densities"
   ]
  },
  {
   "cell_type": "code",
   "execution_count": null,
   "id": "402686e8",
   "metadata": {},
   "outputs": [],
   "source": [
    "states.n_e"
   ]
  },
  {
   "cell_type": "markdown",
   "id": "cabc5516",
   "metadata": {},
   "source": [
    "We can summarize this information too, but let's specify the minimum ionic fraction to print."
   ]
  },
  {
   "cell_type": "code",
   "execution_count": null,
   "id": "48e6f4ec",
   "metadata": {},
   "outputs": [],
   "source": [
    "states.summarize(minimum_ionic_fraction=0.1)"
   ]
  },
  {
   "cell_type": "markdown",
   "id": "9f6abeeb",
   "metadata": {},
   "source": [
    "Now let's make some plots!"
   ]
  },
  {
   "cell_type": "code",
   "execution_count": null,
   "id": "586f00c5",
   "metadata": {},
   "outputs": [],
   "source": []
  }
 ],
 "metadata": {
  "kernelspec": {
   "display_name": "Python 3 (ipykernel)",
   "language": "python",
   "name": "python3"
  },
  "language_info": {
   "codemirror_mode": {
    "name": "ipython",
    "version": 3
   },
   "file_extension": ".py",
   "mimetype": "text/x-python",
   "name": "python",
   "nbconvert_exporter": "python",
   "pygments_lexer": "ipython3"
  }
 },
 "nbformat": 4,
 "nbformat_minor": 5
}
