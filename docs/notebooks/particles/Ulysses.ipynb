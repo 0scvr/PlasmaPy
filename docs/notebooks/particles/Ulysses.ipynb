{
 "cells": [
  {
   "cell_type": "markdown",
   "id": "5ddab7ea",
   "metadata": {},
   "source": [
    "# Ionization states"
   ]
  },
  {
   "cell_type": "markdown",
   "id": "31f467b1",
   "metadata": {},
   "source": [
    "The ionization state distribution for an element refers to the fractions of that element at each ionic level.  For example, the charge state of helium might be 10% He$^{0+}$, 70% He$^{1+}$, and 20% He$^{2+}$. "
   ]
  },
  {
   "cell_type": "code",
   "execution_count": 1,
   "id": "6e9deb4a",
   "metadata": {},
   "outputs": [],
   "source": [
    "from plasmapy.particles import IonizationState, IonizationStateCollection"
   ]
  },
  {
   "cell_type": "markdown",
   "id": "279b1b3a",
   "metadata": {},
   "source": [
    "## The ionization state of a single element"
   ]
  },
  {
   "cell_type": "markdown",
   "id": "39966b76",
   "metadata": {},
   "source": [
    "Let's store this information in an `IonizationState` object, and specify the number density of the element too."
   ]
  },
  {
   "cell_type": "code",
   "execution_count": 3,
   "id": "c4419185",
   "metadata": {},
   "outputs": [
    {
     "name": "stdout",
     "output_type": "stream",
     "text": [
      "<IonizationState instance for He-4>\n"
     ]
    }
   ],
   "source": [
    "He_states = IonizationState(\"He-4\", [0.1, 0.7, 0.2], n_elem=1e7 * u.cm ** -3)"
   ]
  },
  {
   "cell_type": "markdown",
   "id": "b28f004a",
   "metadata": {},
   "source": [
    "The ionization state distribution is stored in the `ionic_fractions` attribute."
   ]
  },
  {
   "cell_type": "code",
   "execution_count": 4,
   "id": "06f5eaa6",
   "metadata": {},
   "outputs": [
    {
     "data": {
      "text/plain": [
       "array([0.1, 0.7, 0.2])"
      ]
     },
     "execution_count": 4,
     "metadata": {},
     "output_type": "execute_result"
    }
   ],
   "source": [
    "He_states.ionic_fractions"
   ]
  },
  {
   "cell_type": "markdown",
   "id": "9d12a5a7",
   "metadata": {},
   "source": [
    "We can get the symbols for each ionic level too."
   ]
  },
  {
   "cell_type": "code",
   "execution_count": 7,
   "id": "9ff206c4",
   "metadata": {},
   "outputs": [
    {
     "data": {
      "text/plain": [
       "['He-4 0+', 'He-4 1+', 'He-4 2+']"
      ]
     },
     "execution_count": 7,
     "metadata": {},
     "output_type": "execute_result"
    }
   ],
   "source": [
    "He_states.ionic_symbols"
   ]
  },
  {
   "cell_type": "markdown",
   "id": "938e60c9",
   "metadata": {},
   "source": [
    "Because we provided the number density of the element as a whole, we can get back the number density of each ionic level."
   ]
  },
  {
   "cell_type": "code",
   "execution_count": 8,
   "id": "d7edcf41",
   "metadata": {},
   "outputs": [
    {
     "data": {
      "text/latex": [
       "$[1 \\times 10^{12},~7 \\times 10^{12},~2 \\times 10^{12}] \\; \\mathrm{\\frac{1}{m^{3}}}$"
      ],
      "text/plain": [
       "<Quantity [1.e+12, 7.e+12, 2.e+12] 1 / m3>"
      ]
     },
     "execution_count": 8,
     "metadata": {},
     "output_type": "execute_result"
    }
   ],
   "source": [
    "He_states.number_densities"
   ]
  },
  {
   "cell_type": "markdown",
   "id": "7cec7b16",
   "metadata": {},
   "source": [
    "We can also get the electron number density required to balance the positive charges for ions of this element."
   ]
  },
  {
   "cell_type": "code",
   "execution_count": 9,
   "id": "22744f13",
   "metadata": {},
   "outputs": [
    {
     "data": {
      "text/latex": [
       "$1.1 \\times 10^{13} \\; \\mathrm{\\frac{1}{m^{3}}}$"
      ],
      "text/plain": [
       "<Quantity 1.1e+13 1 / m3>"
      ]
     },
     "execution_count": 9,
     "metadata": {},
     "output_type": "execute_result"
    }
   ],
   "source": [
    "He_states.n_e"
   ]
  },
  {
   "cell_type": "markdown",
   "id": "3c7ff668",
   "metadata": {},
   "source": [
    "We can provide an `IonizationState` with a charge number as an index to get an `IonicLevel` object that contains most of these attributes, but for a single ionic level (like He$^{1+}$).  This capability is useful if we wish to iterate over the ions of an element."
   ]
  },
  {
   "cell_type": "code",
   "execution_count": 13,
   "id": "2c67356d",
   "metadata": {},
   "outputs": [
    {
     "name": "stdout",
     "output_type": "stream",
     "text": [
      "IonicLevel('He-4 0+', ionic_fraction=0.1)\n",
      "IonicLevel('He-4 1+', ionic_fraction=0.7)\n",
      "IonicLevel('He-4 2+', ionic_fraction=0.2)\n"
     ]
    }
   ],
   "source": [
    "for Z in range(3):\n",
    "    print(He_states[Z])"
   ]
  },
  {
   "cell_type": "markdown",
   "id": "3c7995f0",
   "metadata": {},
   "source": [
    "We can get information about the average charge state via `Z_mean`, `Z_most_abundant`, and `Z_rms`."
   ]
  },
  {
   "cell_type": "code",
   "execution_count": 14,
   "id": "efc11927",
   "metadata": {},
   "outputs": [
    {
     "data": {
      "text/plain": [
       "1.1"
      ]
     },
     "execution_count": 14,
     "metadata": {},
     "output_type": "execute_result"
    }
   ],
   "source": [
    "He_states.Z_mean"
   ]
  },
  {
   "cell_type": "code",
   "execution_count": 15,
   "id": "edb4b146",
   "metadata": {},
   "outputs": [
    {
     "data": {
      "text/plain": [
       "[1]"
      ]
     },
     "execution_count": 15,
     "metadata": {},
     "output_type": "execute_result"
    }
   ],
   "source": [
    "He_states.Z_most_abundant"
   ]
  },
  {
   "cell_type": "code",
   "execution_count": 16,
   "id": "7fbd84bf",
   "metadata": {},
   "outputs": [
    {
     "data": {
      "text/plain": [
       "1.224744871391589"
      ]
     },
     "execution_count": 16,
     "metadata": {},
     "output_type": "execute_result"
    }
   ],
   "source": [
    "He_states.Z_rms"
   ]
  },
  {
   "cell_type": "markdown",
   "id": "ccda6535",
   "metadata": {},
   "source": [
    "We can calculate the properties of the average ionic level."
   ]
  },
  {
   "cell_type": "code",
   "execution_count": 17,
   "id": "847e998f",
   "metadata": {},
   "outputs": [
    {
     "data": {
      "text/plain": [
       "CustomParticle(mass=6.645477039375987e-27 kg, charge=1.7623942974e-19 C)"
      ]
     },
     "execution_count": 17,
     "metadata": {},
     "output_type": "execute_result"
    }
   ],
   "source": [
    "He_states.average_ion()"
   ]
  },
  {
   "cell_type": "markdown",
   "id": "a70042f7",
   "metadata": {},
   "source": [
    "We can use the `summarize()` method to get information about the ionization state."
   ]
  },
  {
   "cell_type": "code",
   "execution_count": 18,
   "id": "19a9ac38",
   "metadata": {},
   "outputs": [
    {
     "name": "stdout",
     "output_type": "stream",
     "text": [
      "IonizationState instance for He-4 with Z_mean = 1.10\n",
      "----------------------------------------------------------------\n",
      "He-4  0+: 0.100    n_i = 1.00e+12 m**-3\n",
      "He-4  1+: 0.700    n_i = 7.00e+12 m**-3\n",
      "He-4  2+: 0.200    n_i = 2.00e+12 m**-3\n",
      "----------------------------------------------------------------\n",
      "n_elem = 1.00e+13 m**-3\n",
      "n_e = 1.10e+13 m**-3\n",
      "----------------------------------------------------------------\n"
     ]
    }
   ],
   "source": [
    "He_states.summarize()"
   ]
  },
  {
   "cell_type": "markdown",
   "id": "6ac6a936",
   "metadata": {},
   "source": [
    "## Ionization states of multiple elements"
   ]
  },
  {
   "cell_type": "markdown",
   "id": "3f7c7d6b",
   "metadata": {},
   "source": [
    "[Gilbert et al. (2012)]: https://doi.org/10.1088/0004-637X/751/1/20\n",
    "\n",
    "Now let's look at some actual average ionization state data for filament material in an ICME observed by the *Advanced Composition Explorer* (*ACE*) near 1 AU.  The data were estimated from Figure 4 in [Gilbert et al. (2012)].  These data are noteworthy because there is information from very low charge states to very high charge states."
   ]
  },
  {
   "cell_type": "code",
   "execution_count": 19,
   "id": "6f57b224",
   "metadata": {},
   "outputs": [],
   "source": [
    "number_densities = {\n",
    "    \"C\": [0, 5.7e-7, 4.3e-5, 3.6e-6, 2.35e-6, 1e-6, 1.29e-6] * u.cm ** -3,\n",
    "    \"O\": [0, 1.2e-7, 2.2e-4, 7.8e-6, 8.8e-7, 1e-6, 4e-6, 1.3e-6, 1.2e-7] * u.cm ** -3,\n",
    "    \"Fe\": [\n",
    "        0,\n",
    "        0,\n",
    "        1.4e-8,\n",
    "        1.1e-7,\n",
    "        2.5e-7,\n",
    "        2.2e-7,\n",
    "        1.4e-7,\n",
    "        1.2e-7,\n",
    "        2.1e-7,\n",
    "        2.1e-7,\n",
    "        1.6e-7,\n",
    "        8e-8,\n",
    "        6.3e-8,\n",
    "        4.2e-8,\n",
    "        2.5e-8,\n",
    "        2.3e-8,\n",
    "        1.5e-8,\n",
    "        3.1e-8,\n",
    "        6.1e-9,\n",
    "        2.3e-9,\n",
    "        5.3e-10,\n",
    "        2.3e-10,\n",
    "        0,\n",
    "        0,\n",
    "        0,\n",
    "        0,\n",
    "        0,\n",
    "    ]\n",
    "    * u.cm ** -3,\n",
    "}"
   ]
  },
  {
   "cell_type": "markdown",
   "id": "7b2d878e",
   "metadata": {},
   "source": [
    "Now let's use this information as an input for `IonizationStateCollection`: a data structure for the ionization states of multiple elements."
   ]
  },
  {
   "cell_type": "code",
   "execution_count": 20,
   "id": "ed4da71a",
   "metadata": {},
   "outputs": [],
   "source": [
    "states = IonizationStateCollection(number_densities)"
   ]
  },
  {
   "cell_type": "markdown",
   "id": "6e769fc0",
   "metadata": {},
   "source": [
    "We can index this to get an `IonizationState` for one of the elements."
   ]
  },
  {
   "cell_type": "code",
   "execution_count": 21,
   "id": "ebce50d9",
   "metadata": {},
   "outputs": [
    {
     "data": {
      "text/plain": [
       "<IonizationState instance for C>"
      ]
     },
     "execution_count": 21,
     "metadata": {},
     "output_type": "execute_result"
    }
   ],
   "source": [
    "states[\"C\"]"
   ]
  },
  {
   "cell_type": "markdown",
   "id": "5ac7be92",
   "metadata": {},
   "source": [
    "We can get the relative abundances of each of the elements."
   ]
  },
  {
   "cell_type": "code",
   "execution_count": 22,
   "id": "4b302f1e",
   "metadata": {},
   "outputs": [
    {
     "data": {
      "text/plain": [
       "{'C': 0.17942722921968796, 'O': 0.8146086249190311, 'Fe': 0.005964145861281176}"
      ]
     },
     "execution_count": 22,
     "metadata": {},
     "output_type": "execute_result"
    }
   ],
   "source": [
    "states.abundances"
   ]
  },
  {
   "cell_type": "code",
   "execution_count": 23,
   "id": "5a7baf6c",
   "metadata": {},
   "outputs": [
    {
     "data": {
      "text/plain": [
       "{'C': -0.7461116493492604, 'O': -0.08905099599945356, 'Fe': -2.224451743828212}"
      ]
     },
     "execution_count": 23,
     "metadata": {},
     "output_type": "execute_result"
    }
   ],
   "source": [
    "states.log_abundances"
   ]
  },
  {
   "cell_type": "markdown",
   "id": "1350ddb8",
   "metadata": {},
   "source": [
    "We can get the number densities as a `dict` (like what we provided) and the electron number density (assuming quasineutrality, but only for the elements contained in the data structure)."
   ]
  },
  {
   "cell_type": "code",
   "execution_count": 24,
   "id": "566fab0c",
   "metadata": {},
   "outputs": [
    {
     "data": {
      "text/plain": [
       "{'C': <Quantity [ 0.  ,  0.57, 43.  ,  3.6 ,  2.35,  1.  ,  1.29] 1 / m3>,\n",
       " 'O': <Quantity [0.0e+00, 1.2e-01, 2.2e+02, 7.8e+00, 8.8e-01, 1.0e+00, 4.0e+00,\n",
       "            1.3e+00, 1.2e-01] 1 / m3>,\n",
       " 'Fe': <Quantity [0.0e+00, 0.0e+00, 1.4e-02, 1.1e-01, 2.5e-01, 2.2e-01, 1.4e-01,\n",
       "            1.2e-01, 2.1e-01, 2.1e-01, 1.6e-01, 8.0e-02, 6.3e-02, 4.2e-02,\n",
       "            2.5e-02, 2.3e-02, 1.5e-02, 3.1e-02, 6.1e-03, 2.3e-03, 5.3e-04,\n",
       "            2.3e-04, 0.0e+00, 0.0e+00, 0.0e+00, 0.0e+00, 0.0e+00] 1 / m3>}"
      ]
     },
     "execution_count": 24,
     "metadata": {},
     "output_type": "execute_result"
    }
   ],
   "source": [
    "states.number_densities"
   ]
  },
  {
   "cell_type": "code",
   "execution_count": 25,
   "id": "402686e8",
   "metadata": {},
   "outputs": [
    {
     "data": {
      "text/latex": [
       "$638.73093 \\; \\mathrm{\\frac{1}{m^{3}}}$"
      ],
      "text/plain": [
       "<Quantity 638.73093 1 / m3>"
      ]
     },
     "execution_count": 25,
     "metadata": {},
     "output_type": "execute_result"
    }
   ],
   "source": [
    "states.n_e"
   ]
  },
  {
   "cell_type": "markdown",
   "id": "cabc5516",
   "metadata": {},
   "source": [
    "We can summarize this information too, but let's specify the minimum ionic fraction to print."
   ]
  },
  {
   "cell_type": "code",
   "execution_count": 27,
   "id": "48e6f4ec",
   "metadata": {},
   "outputs": [
    {
     "name": "stdout",
     "output_type": "stream",
     "text": [
      "IonizationStateCollection instance for: C, O, Fe\n",
      "----------------------------------------------------------------\n",
      "C  2+: 0.830    n_i = 4.30e+01 m**-3\n",
      "----------------------------------------------------------------\n",
      "O  2+: 0.935    n_i = 2.20e+02 m**-3\n",
      "----------------------------------------------------------------\n",
      "Fe  4+: 0.145    n_i = 2.50e-01 m**-3\n",
      "Fe  5+: 0.128    n_i = 2.20e-01 m**-3\n",
      "Fe  8+: 0.122    n_i = 2.10e-01 m**-3\n",
      "Fe  9+: 0.122    n_i = 2.10e-01 m**-3\n",
      "----------------------------------------------------------------\n",
      "n_e = 6.39e+02 m**-3\n",
      "----------------------------------------------------------------\n"
     ]
    }
   ],
   "source": [
    "states.summarize(minimum_ionic_fraction=0.1)"
   ]
  },
  {
   "cell_type": "markdown",
   "id": "9f6abeeb",
   "metadata": {},
   "source": [
    "Now let's make some plots!"
   ]
  },
  {
   "cell_type": "code",
   "execution_count": null,
   "id": "586f00c5",
   "metadata": {},
   "outputs": [],
   "source": []
  }
 ],
 "metadata": {
  "kernelspec": {
   "display_name": "Python 3 (ipykernel)",
   "language": "python",
   "name": "python3"
  },
  "language_info": {
   "codemirror_mode": {
    "name": "ipython",
    "version": 3
   },
   "file_extension": ".py",
   "mimetype": "text/x-python",
   "name": "python",
   "nbconvert_exporter": "python",
   "pygments_lexer": "ipython3",
   "version": "3.10.4"
  }
 },
 "nbformat": 4,
 "nbformat_minor": 5
}
