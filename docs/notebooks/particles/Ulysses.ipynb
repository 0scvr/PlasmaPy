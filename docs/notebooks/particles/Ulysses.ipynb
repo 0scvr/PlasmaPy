{
 "cells": [
  {
   "cell_type": "markdown",
   "id": "ce61961e",
   "metadata": {},
   "source": [
    "# Ionization states of the solar wind"
   ]
  },
  {
   "cell_type": "markdown",
   "id": "4f46ce9f",
   "metadata": {},
   "source": [
    "The ionization state of a plasma refers to the fraction of an element that is at each ionization level. For example, the charge state of carbon in the solar wind might be 5% C<sup>4+</sup>, 60% C<sup>5+</sup>, and 35% C<sup>6+</sup>."
   ]
  },
  {
   "cell_type": "code",
   "execution_count": 8,
   "id": "46299c84",
   "metadata": {},
   "outputs": [],
   "source": [
    "import warnings\n",
    "\n",
    "warnings.filterwarnings(\"ignore\", category=ParticleWarning)"
   ]
  },
  {
   "cell_type": "code",
   "execution_count": 9,
   "id": "ff1a3243",
   "metadata": {},
   "outputs": [],
   "source": [
    "from plasmapy.particles import (\n",
    "    IonicLevel,\n",
    "    IonizationState,\n",
    "    IonizationStateCollection,\n",
    "    Particle,\n",
    ")\n",
    "from plasmapy.particles.exceptions import ParticleWarning"
   ]
  },
  {
   "cell_type": "markdown",
   "id": "08a1ba3d",
   "metadata": {},
   "source": [
    "## The ionization state of a single element"
   ]
  },
  {
   "cell_type": "markdown",
   "id": "4d6e895a",
   "metadata": {},
   "source": [
    "First let's look at a typical ionization state of hydrogen in the solar chromosphere (estimated from Vernazza et al. 1981 model C at a height of ∼1000 km from the photosphere)."
   ]
  },
  {
   "cell_type": "code",
   "execution_count": 10,
   "id": "2ae68817",
   "metadata": {},
   "outputs": [],
   "source": [
    "hydrogen_ionization = IonizationState(\n",
    "    particle=\"H-1\",\n",
    "    ionic_fractions=[0.995, 0.005],\n",
    "    T_e=6000 * u.K,\n",
    "    T_i=6000 * u.K,\n",
    "    n_elem=1.7e11 * u.cm ** -3,\n",
    ")"
   ]
  },
  {
   "cell_type": "markdown",
   "id": "2216240e",
   "metadata": {},
   "source": [
    "The attributes of an `IonizationState` object can tell us about..."
   ]
  },
  {
   "cell_type": "code",
   "execution_count": 14,
   "id": "1a083eed",
   "metadata": {},
   "outputs": [
    {
     "data": {
      "text/plain": [
       "array([0.995, 0.005])"
      ]
     },
     "execution_count": 14,
     "metadata": {},
     "output_type": "execute_result"
    }
   ],
   "source": [
    "hydrogen_ionization.ionic_fractions"
   ]
  },
  {
   "cell_type": "code",
   "execution_count": null,
   "id": "09f2f1f8",
   "metadata": {},
   "outputs": [],
   "source": []
  },
  {
   "cell_type": "code",
   "execution_count": null,
   "id": "e156577b",
   "metadata": {},
   "outputs": [],
   "source": [
    "hydrogen_ionization.Z_most_abundant"
   ]
  },
  {
   "cell_type": "code",
   "execution_count": null,
   "id": "ff36730b",
   "metadata": {},
   "outputs": [],
   "source": [
    "hydrogen_ionization.Z_mean"
   ]
  },
  {
   "cell_type": "code",
   "execution_count": 11,
   "id": "731eeebe",
   "metadata": {},
   "outputs": [
    {
     "data": {
      "text/plain": [
       "0.07071067811865475"
      ]
     },
     "execution_count": 11,
     "metadata": {},
     "output_type": "execute_result"
    }
   ],
   "source": [
    "hydrogen_ionization.Z_rms"
   ]
  },
  {
   "cell_type": "code",
   "execution_count": null,
   "id": "40f68d31",
   "metadata": {},
   "outputs": [],
   "source": []
  },
  {
   "cell_type": "code",
   "execution_count": null,
   "id": "b010b4a6",
   "metadata": {},
   "outputs": [],
   "source": []
  },
  {
   "cell_type": "code",
   "execution_count": null,
   "id": "aa4495ac",
   "metadata": {},
   "outputs": [],
   "source": []
  },
  {
   "cell_type": "code",
   "execution_count": null,
   "id": "8a1b1db9",
   "metadata": {},
   "outputs": [],
   "source": [
    "hydrogen_ionization.average_ion()"
   ]
  },
  {
   "cell_type": "code",
   "execution_count": null,
   "id": "25c6ab78",
   "metadata": {},
   "outputs": [],
   "source": [
    "ionization_in_chromosphere.base_particle"
   ]
  },
  {
   "cell_type": "code",
   "execution_count": null,
   "id": "e7de4c44",
   "metadata": {},
   "outputs": [],
   "source": [
    "ionization_in_chromosphere.charge_numbers"
   ]
  },
  {
   "cell_type": "code",
   "execution_count": null,
   "id": "daed8bff",
   "metadata": {},
   "outputs": [],
   "source": [
    "ionization_in_chromosphere.number_densities"
   ]
  },
  {
   "cell_type": "code",
   "execution_count": null,
   "id": "d81286bd",
   "metadata": {},
   "outputs": [],
   "source": [
    "ionization_in_chromosphere.n_e"
   ]
  },
  {
   "cell_type": "code",
   "execution_count": null,
   "id": "dcf6baf6",
   "metadata": {},
   "outputs": [],
   "source": [
    "ionization_in_chromosphere.summarize()"
   ]
  },
  {
   "cell_type": "markdown",
   "id": "7a000eaf",
   "metadata": {},
   "source": [
    "## Ionization states measured by *Ulysses* in the solar wind"
   ]
  },
  {
   "cell_type": "markdown",
   "id": "1e26304c",
   "metadata": {},
   "source": [
    "[Ko et al. (1999)]: https://agupubs.onlinelibrary.wiley.com/doi/epdf/10.1029/1999JA900112\n",
    "[Ulysses]: https://en.wikipedia.org/wiki/Ulysses_(spacecraft)\n",
    "\n",
    "The *[Ulysses]* spacecraft was launched in 1990 with the goal of stuyding the Sun at all latitudes. *Ulysses* included instruments that measured the ionization states of multiple elements \n",
    "\n",
    "Let's look at the results from [Ko et al. (1999)]. "
   ]
  },
  {
   "cell_type": "code",
   "execution_count": null,
   "id": "525210ce",
   "metadata": {},
   "outputs": [],
   "source": []
  },
  {
   "cell_type": "code",
   "execution_count": null,
   "id": "d62205b8",
   "metadata": {},
   "outputs": [],
   "source": []
  },
  {
   "cell_type": "code",
   "execution_count": null,
   "id": "6e9deb4a",
   "metadata": {},
   "outputs": [],
   "source": []
  },
  {
   "cell_type": "code",
   "execution_count": null,
   "id": "969d8067",
   "metadata": {},
   "outputs": [],
   "source": []
  }
 ],
 "metadata": {
  "kernelspec": {
   "display_name": "Python 3 (ipykernel)",
   "language": "python",
   "name": "python3"
  },
  "language_info": {
   "codemirror_mode": {
    "name": "ipython",
    "version": 3
   },
   "file_extension": ".py",
   "mimetype": "text/x-python",
   "name": "python",
   "nbconvert_exporter": "python",
   "pygments_lexer": "ipython3",
   "version": "3.10.2"
  }
 },
 "nbformat": 4,
 "nbformat_minor": 5
}
